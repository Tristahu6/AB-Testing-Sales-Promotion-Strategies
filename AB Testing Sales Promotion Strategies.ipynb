{
 "cells": [
  {
   "cell_type": "markdown",
   "id": "9a9849cc",
   "metadata": {},
   "source": [
    "### Project Overview\n",
    "Lobster Land aims to enhance its online merchandise store's performance through various promotional strategies. In collaboration with the convenience store chain Kwik-E-Mart, three distinct promotional campaigns were conducted at multiple Kwik-E-Mart locations across Maine. Each campaign utilized unique QR codes, enabling Lobster Land to track the online merchandise revenue generated precisely through each promotional strategy.\n",
    "\n",
    "### Data Dictionary\n",
    "\n",
    "- **MarketID:** Unique identifier for a market.\n",
    "- **MarketSize:** Size of the market area categorized by sales volume.\n",
    "- **LocationID:** Unique identifier for each Kwik-E-Mart store location.\n",
    "- **AgeOfStore:** The number of years since the store was established.\n",
    "- **Promotion:** Identifier for one of the three tested promotions (Promotion1, Promotion2, or Promotion3).\n",
    "- **Week:** Identifier for one of the four weeks during which the promotions were active.\n",
    "- **SalesInThousands:** Sales revenue per row (in thousands). Each row represents a unique combination of LocationID, Promotion, and Week.\n",
    "\n",
    "### Objective\n",
    "The primary goal of this project is to provide Lobster Land with insights into the effectiveness of each promotional campaign. The analysis focuses on understanding and evaluating the impact of Promotion1, Promotion2, and Promotion3 on sales. By analyzing the `campaign_data.csv`:\n",
    "- Assess the sales performance of each promotional strategy.\n",
    "- Understand the influence of various factors, like market size and store age, on the effectiveness of each promotion.\n",
    "- Provide recommendations on the most effective promotion for increasing sales.\n",
    "\n",
    "### Insights & Analysis Plan\n",
    "1. **Descriptive Statistics:** Understand the basic characteristics of the data, including the distribution of sales, market size, and store age.\n",
    "2. **Promotional Campaign Analysis:** Evaluate the sales performance of each promotion, comparing their effectiveness in different market sizes and store ages.\n",
    "3. **Hypothesis Testing:** Conduct statistical tests (pairwise t-tests) to determine if observed differences in sales across the promotions are statistically significant.\n",
    "4. **Visualizations:** Develop intuitive charts and graphs to visualize sales trends and the impact of each promotional campaign.\n",
    "5. **Insights & Recommendations:** Conclude with actionable insights and strategic recommendations for Lobster Land's future promotional strategies."
   ]
  },
  {
   "cell_type": "code",
   "execution_count": 1,
   "id": "3a14fa15",
   "metadata": {},
   "outputs": [],
   "source": [
    "import pandas as pd\n",
    "import matplotlib.pyplot as plt\n",
    "import seaborn as sns\n",
    "import numpy as np "
   ]
  },
  {
   "cell_type": "code",
   "execution_count": 2,
   "id": "d683c973",
   "metadata": {},
   "outputs": [
    {
     "data": {
      "text/html": [
       "<div>\n",
       "<style scoped>\n",
       "    .dataframe tbody tr th:only-of-type {\n",
       "        vertical-align: middle;\n",
       "    }\n",
       "\n",
       "    .dataframe tbody tr th {\n",
       "        vertical-align: top;\n",
       "    }\n",
       "\n",
       "    .dataframe thead th {\n",
       "        text-align: right;\n",
       "    }\n",
       "</style>\n",
       "<table border=\"1\" class=\"dataframe\">\n",
       "  <thead>\n",
       "    <tr style=\"text-align: right;\">\n",
       "      <th></th>\n",
       "      <th>MarketID</th>\n",
       "      <th>MarketSize</th>\n",
       "      <th>LocationID</th>\n",
       "      <th>AgeOfStore</th>\n",
       "      <th>Promotion</th>\n",
       "      <th>week</th>\n",
       "      <th>SalesInThousands</th>\n",
       "    </tr>\n",
       "  </thead>\n",
       "  <tbody>\n",
       "    <tr>\n",
       "      <th>0</th>\n",
       "      <td>1</td>\n",
       "      <td>Medium</td>\n",
       "      <td>1</td>\n",
       "      <td>4</td>\n",
       "      <td>3</td>\n",
       "      <td>1</td>\n",
       "      <td>33.73</td>\n",
       "    </tr>\n",
       "    <tr>\n",
       "      <th>1</th>\n",
       "      <td>1</td>\n",
       "      <td>Medium</td>\n",
       "      <td>1</td>\n",
       "      <td>4</td>\n",
       "      <td>3</td>\n",
       "      <td>2</td>\n",
       "      <td>35.67</td>\n",
       "    </tr>\n",
       "    <tr>\n",
       "      <th>2</th>\n",
       "      <td>1</td>\n",
       "      <td>Medium</td>\n",
       "      <td>1</td>\n",
       "      <td>4</td>\n",
       "      <td>3</td>\n",
       "      <td>3</td>\n",
       "      <td>29.03</td>\n",
       "    </tr>\n",
       "    <tr>\n",
       "      <th>3</th>\n",
       "      <td>1</td>\n",
       "      <td>Medium</td>\n",
       "      <td>1</td>\n",
       "      <td>4</td>\n",
       "      <td>3</td>\n",
       "      <td>4</td>\n",
       "      <td>39.25</td>\n",
       "    </tr>\n",
       "    <tr>\n",
       "      <th>4</th>\n",
       "      <td>1</td>\n",
       "      <td>Medium</td>\n",
       "      <td>2</td>\n",
       "      <td>5</td>\n",
       "      <td>2</td>\n",
       "      <td>1</td>\n",
       "      <td>42.79</td>\n",
       "    </tr>\n",
       "    <tr>\n",
       "      <th>...</th>\n",
       "      <td>...</td>\n",
       "      <td>...</td>\n",
       "      <td>...</td>\n",
       "      <td>...</td>\n",
       "      <td>...</td>\n",
       "      <td>...</td>\n",
       "      <td>...</td>\n",
       "    </tr>\n",
       "    <tr>\n",
       "      <th>543</th>\n",
       "      <td>10</td>\n",
       "      <td>Large</td>\n",
       "      <td>919</td>\n",
       "      <td>2</td>\n",
       "      <td>1</td>\n",
       "      <td>4</td>\n",
       "      <td>64.34</td>\n",
       "    </tr>\n",
       "    <tr>\n",
       "      <th>544</th>\n",
       "      <td>10</td>\n",
       "      <td>Large</td>\n",
       "      <td>920</td>\n",
       "      <td>14</td>\n",
       "      <td>2</td>\n",
       "      <td>1</td>\n",
       "      <td>65.18</td>\n",
       "    </tr>\n",
       "    <tr>\n",
       "      <th>545</th>\n",
       "      <td>10</td>\n",
       "      <td>Large</td>\n",
       "      <td>920</td>\n",
       "      <td>14</td>\n",
       "      <td>2</td>\n",
       "      <td>2</td>\n",
       "      <td>60.73</td>\n",
       "    </tr>\n",
       "    <tr>\n",
       "      <th>546</th>\n",
       "      <td>10</td>\n",
       "      <td>Large</td>\n",
       "      <td>920</td>\n",
       "      <td>14</td>\n",
       "      <td>2</td>\n",
       "      <td>3</td>\n",
       "      <td>59.27</td>\n",
       "    </tr>\n",
       "    <tr>\n",
       "      <th>547</th>\n",
       "      <td>10</td>\n",
       "      <td>Large</td>\n",
       "      <td>920</td>\n",
       "      <td>14</td>\n",
       "      <td>2</td>\n",
       "      <td>4</td>\n",
       "      <td>64.39</td>\n",
       "    </tr>\n",
       "  </tbody>\n",
       "</table>\n",
       "<p>548 rows × 7 columns</p>\n",
       "</div>"
      ],
      "text/plain": [
       "     MarketID MarketSize  LocationID  AgeOfStore  Promotion  week  \\\n",
       "0           1     Medium           1           4          3     1   \n",
       "1           1     Medium           1           4          3     2   \n",
       "2           1     Medium           1           4          3     3   \n",
       "3           1     Medium           1           4          3     4   \n",
       "4           1     Medium           2           5          2     1   \n",
       "..        ...        ...         ...         ...        ...   ...   \n",
       "543        10      Large         919           2          1     4   \n",
       "544        10      Large         920          14          2     1   \n",
       "545        10      Large         920          14          2     2   \n",
       "546        10      Large         920          14          2     3   \n",
       "547        10      Large         920          14          2     4   \n",
       "\n",
       "     SalesInThousands  \n",
       "0               33.73  \n",
       "1               35.67  \n",
       "2               29.03  \n",
       "3               39.25  \n",
       "4               42.79  \n",
       "..                ...  \n",
       "543             64.34  \n",
       "544             65.18  \n",
       "545             60.73  \n",
       "546             59.27  \n",
       "547             64.39  \n",
       "\n",
       "[548 rows x 7 columns]"
      ]
     },
     "execution_count": 2,
     "metadata": {},
     "output_type": "execute_result"
    }
   ],
   "source": [
    "# Read the csv file\n",
    "df_campaign = pd.read_csv('campaign_data.csv')\n",
    "df_campaign"
   ]
  },
  {
   "cell_type": "code",
   "execution_count": 3,
   "id": "73435c2f",
   "metadata": {},
   "outputs": [
    {
     "name": "stderr",
     "output_type": "stream",
     "text": [
      "C:\\Users\\Trista Hu\\AppData\\Local\\Temp\\ipykernel_15524\\658933470.py:2: FutureWarning: \n",
      "\n",
      "The `ci` parameter is deprecated. Use `errorbar=None` for the same effect.\n",
      "\n",
      "  sns.barplot(x='Promotion', y='SalesInThousands', data=df_campaign, ci=None)\n"
     ]
    },
    {
     "data": {
      "image/png": "[encoded data removed]",
      "text/plain": [
       "<Figure size 640x480 with 1 Axes>"
      ]
     },
     "metadata": {},
     "output_type": "display_data"
    }
   ],
   "source": [
    "# Generate a barplot to show the average SalesInThousands values, separated by the different promotion types\n",
    "sns.barplot(x='Promotion', y='SalesInThousands', data=df_campaign, ci=None)\n",
    "\n",
    "plt.xlabel('Promotion Type')\n",
    "plt.ylabel('Average Sales (in Thousands)')\n",
    "plt.title('Average Sales by Promotion Type')\n",
    "\n",
    "plt.show()"
   ]
  },
  {
   "cell_type": "markdown",
   "id": "329dbfb6",
   "metadata": {},
   "source": [
    "The barplot visualizes the average SalesInThousands values generated by each promotion type. It shows that the average sales are similar for Promotion 1 (around 58,000), Promotion 2 (around 61,000), and Promotion 3 (around 55,000)."
   ]
  },
  {
   "cell_type": "code",
   "execution_count": 4,
   "id": "8eb81237",
   "metadata": {},
   "outputs": [
    {
     "data": {
      "image/png": "[encoded data removed]",
      "text/plain": [
       "<Figure size 640x480 with 1 Axes>"
      ]
     },
     "metadata": {},
     "output_type": "display_data"
    }
   ],
   "source": [
    "df_campaign['week'] = df_campaign['week'].astype('category')\n",
    "\n",
    "sns.countplot(x='Promotion', hue='week', data=df_campaign)\n",
    "\n",
    "plt.xlabel('Promotion Type')\n",
    "plt.ylabel('Number of Instances')\n",
    "plt.title('Number of Instances per Promotion Type')\n",
    "\n",
    "plt.show()"
   ]
  },
  {
   "cell_type": "markdown",
   "id": "86f98cd5",
   "metadata": {},
   "source": [
    "As the gragh shows, the number of instances for each campaign is the same for every week, this suggests that the experiment design has an even distribution of promotions across time. This indicates a well-controlled experimental design where the 'week' variable is not confounded with the 'PromotionType' variable."
   ]
  },
  {
   "cell_type": "code",
   "execution_count": 5,
   "id": "83938472",
   "metadata": {},
   "outputs": [
    {
     "name": "stdout",
     "output_type": "stream",
     "text": [
      "           count      mean       std  min  25%  50%   75%   max\n",
      "Promotion                                                      \n",
      "1          172.0  8.279070  6.636160  1.0  3.0  6.0  12.0  27.0\n",
      "2          188.0  7.978723  6.597648  1.0  3.0  7.0  10.0  28.0\n",
      "3          188.0  9.234043  6.651646  1.0  5.0  8.0  12.0  24.0\n"
     ]
    }
   ],
   "source": [
    "summary_stats = df_campaign.groupby('Promotion')['AgeOfStore'].describe()\n",
    "\n",
    "print(summary_stats)"
   ]
  },
  {
   "cell_type": "markdown",
   "id": "4c5662d3",
   "metadata": {},
   "source": [
    "There are 172 stores in Promotion 1, 188 stores in Promotion 2, and 188 stores in Promotion 3. The count of stores is similar across the three groups, suggesting that the sample sizes are relatively balanced.\n",
    "\n",
    "Overall, based on these results, it appears that the age profile of the stores does not seem to be very different across the three groups. The average sales, variability (similar Standard Deviation), and range of sales are similar, reducing the risk of age profile becoming a confounding variable to the experiment. "
   ]
  },
  {
   "cell_type": "code",
   "execution_count": 6,
   "id": "7d5229ec",
   "metadata": {},
   "outputs": [
    {
     "name": "stdout",
     "output_type": "stream",
     "text": [
      "Promotion 1 vs. Promotion 2:\n",
      "T-Statistic: -2.5230805833394934\n",
      "P-Value: 0.012065595012565785\n",
      "\n",
      "Promotion 2 vs. Promotion 3:\n",
      "T-Statistic: 4.2191398016523785\n",
      "P-Value: 3.0807459102757044e-05\n",
      "\n",
      "Promotion 1 vs. Promotion 3:\n",
      "T-Statistic: 1.5551383687293547\n",
      "P-Value: 0.12079667272313273\n"
     ]
    }
   ],
   "source": [
    "import scipy.stats as stats\n",
    "\n",
    "# Extract the sales values for each promotion \n",
    "sales_promo1 = df_campaign[df_campaign['Promotion'] == 1]['SalesInThousands']\n",
    "sales_promo2 = df_campaign[df_campaign['Promotion'] == 2]['SalesInThousands']\n",
    "sales_promo3 = df_campaign[df_campaign['Promotion'] == 3]['SalesInThousands']\n",
    "\n",
    "# Perform pairwise t-tests\n",
    "t_statistic_1_vs_2, p_value_1_vs_2 = stats.ttest_ind(sales_promo1, sales_promo2)\n",
    "t_statistic_2_vs_3, p_value_2_vs_3 = stats.ttest_ind(sales_promo2, sales_promo3)\n",
    "t_statistic_1_vs_3, p_value_1_vs_3 = stats.ttest_ind(sales_promo1, sales_promo3)\n",
    "\n",
    "print(\"Promotion 1 vs. Promotion 2:\")\n",
    "print(\"T-Statistic:\", t_statistic_1_vs_2)\n",
    "print(\"P-Value:\", p_value_1_vs_2)\n",
    "\n",
    "print(\"\\nPromotion 2 vs. Promotion 3:\")\n",
    "print(\"T-Statistic:\", t_statistic_2_vs_3)\n",
    "print(\"P-Value:\", p_value_2_vs_3)\n",
    "\n",
    "print(\"\\nPromotion 1 vs. Promotion 3:\")\n",
    "print(\"T-Statistic:\", t_statistic_1_vs_3)\n",
    "print(\"P-Value:\", p_value_1_vs_3)"
   ]
  },
  {
   "cell_type": "markdown",
   "id": "f3bf26d9",
   "metadata": {},
   "source": [
    "**Comparative Analysis of Promotions:**  \n",
    "Promotion 1 vs. Promotion 2:\n",
    "A negative t-statistic of -2.523 implies that, on average, Promotion 1 yields lower sales than Promotion 2, indicating the superior performance of Promotion 2 in generating sales. With a p-value of 0.0121, which is below the standard significance level of 0.05, we have substantial evidence to affirm that the difference in the means of Promotion 1 and Promotion 2 is statistically significant.\n",
    "\n",
    "Promotion 2 vs. Promotion 3:\n",
    "A positive t-statistic of 4.219 indicates that Promotion 2 has a higher mean sales compared to Promotion 3. This significant t-statistic reveals a substantial discrepancy between the two promotions. With an exceedingly low p-value (3.08e-05), there is compelling evidence to reject the null hypothesis, concluding that Promotion 2 is markedly more effective than Promotion 3 in sales generation.\n",
    "\n",
    "Promotion 1 vs. Promotion 3:\n",
    "With a t-statistic of 1.555, there's a slight difference in mean sales between Promotion 1 and Promotion 3. However, given that the p-value of 0.1208 exceeds the 0.05 significance level, we cannot claim this difference as statistically significant. Thus, there's inadequate evidence to ascertain a significant difference in sales performance between Promotion 1 and Promotion 3.\n",
    "\n",
    "Conclusion:\n",
    "Promotion 2 emerges as the most effective strategy for revenue generation amongst the three. Therefore, it is recommended that the company should either continue with or derive inspiration from Promotion 2 for future campaigns."
   ]
  }
 ],
 "metadata": {
  "kernelspec": {
   "display_name": "Python 3 (ipykernel)",
   "language": "python",
   "name": "python3"
  },
  "language_info": {
   "codemirror_mode": {
    "name": "ipython",
    "version": 3
   },
   "file_extension": ".py",
   "mimetype": "text/x-python",
   "name": "python",
   "nbconvert_exporter": "python",
   "pygments_lexer": "ipython3",
   "version": "3.10.9"
  }
 },
 "nbformat": 4,
 "nbformat_minor": 5
}
